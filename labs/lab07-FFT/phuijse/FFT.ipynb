{
 "cells": [
  {
   "cell_type": "code",
   "execution_count": null,
   "metadata": {},
   "outputs": [],
   "source": [
    "%matplotlib notebook\n",
    "import numpy as np\n",
    "import scipy.fftpack\n",
    "import matplotlib.pyplot as plt"
   ]
  },
  {
   "cell_type": "code",
   "execution_count": null,
   "metadata": {},
   "outputs": [],
   "source": [
    "times, dt = np.linspace(0, 10, num=512, retstep=True)\n",
    "freqs = 0.01 + 20*np.random.rand(5)\n",
    "phases = np.pi*np.random.randn(5)\n",
    "signal = np.zeros(shape=(len(times),))\n",
    "for freq, phase in zip(freqs, phases):\n",
    "    signal += np.cos(2.0*np.pi*times*freq + phase)\n",
    "    \n",
    "fig, ax = plt.subplots()\n",
    "ax.plot(times, signal)\n",
    "np.savetxt('signal.dat', signal)"
   ]
  },
  {
   "cell_type": "code",
   "execution_count": null,
   "metadata": {},
   "outputs": [],
   "source": [
    "fig, ax = plt.subplots(2, figsize=(7, 4))\n",
    "SIGNAL = scipy.fftpack.fft(signal, n=len(times))\n",
    "SIGNAL_plot = scipy.fftpack.fftshift(SIGNAL)\n",
    "freqs_plot = scipy.fftpack.fftshift(scipy.fftpack.fftfreq(n=len(times), d=dt))\n",
    "ax[0].plot(freqs_plot, np.abs(SIGNAL_plot))\n",
    "ax[1].plot(freqs_plot, np.angle(SIGNAL_plot));"
   ]
  },
  {
   "cell_type": "code",
   "execution_count": null,
   "metadata": {},
   "outputs": [],
   "source": [
    "#%%bash\n",
    "!make\n",
    "%timeit -n10 !./prog 0\n",
    "%timeit -n10 !./prog 1\n",
    "!head spectrum.dat"
   ]
  },
  {
   "cell_type": "code",
   "execution_count": null,
   "metadata": {},
   "outputs": [],
   "source": [
    "SIGNAL_c = np.loadtxt(\"spectrum.dat\")\n",
    "SIGNAL_c_complex = SIGNAL_c[:, 0] + 1j*SIGNAL_c[:, 1]\n",
    "np.allclose(SIGNAL, SIGNAL_c_complex, rtol=1e-9)"
   ]
  },
  {
   "cell_type": "code",
   "execution_count": null,
   "metadata": {},
   "outputs": [],
   "source": [
    "fig, ax = plt.subplots(2, figsize=(7, 4), tight_layout=True)\n",
    "ax[0].plot(freqs_plot, np.abs(SIGNAL_plot), alpha=0.5)\n",
    "SIGNAL_c_plot = scipy.fftpack.fftshift(SIGNAL_c_complex)\n",
    "ax[0].plot(freqs_plot, np.abs(SIGNAL_c_plot), alpha=0.5)\n",
    "ax[1].plot(freqs_plot, np.abs(SIGNAL_plot) - np.abs(SIGNAL_c_plot));"
   ]
  },
  {
   "cell_type": "code",
   "execution_count": null,
   "metadata": {},
   "outputs": [],
   "source": []
  }
 ],
 "metadata": {
  "kernelspec": {
   "display_name": "Python 3",
   "language": "python",
   "name": "python3"
  },
  "language_info": {
   "codemirror_mode": {
    "name": "ipython",
    "version": 3
   },
   "file_extension": ".py",
   "mimetype": "text/x-python",
   "name": "python",
   "nbconvert_exporter": "python",
   "pygments_lexer": "ipython3",
   "version": "3.7.3"
  }
 },
 "nbformat": 4,
 "nbformat_minor": 2
}
