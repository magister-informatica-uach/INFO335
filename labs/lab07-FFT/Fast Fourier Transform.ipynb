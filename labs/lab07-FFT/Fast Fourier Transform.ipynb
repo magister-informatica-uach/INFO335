{
 "cells": [
  {
   "cell_type": "code",
   "execution_count": null,
   "metadata": {},
   "outputs": [],
   "source": [
    "%%HTML\n",
    "<!-- Mejorar visualización en proyector -->\n",
    "<style>\n",
    ".rendered_html {font-size: 1.2em; line-height: 150%;}\n",
    "div.prompt {min-width: 0ex; }\n",
    ".container {width:95% !important;}\n",
    "</style>"
   ]
  },
  {
   "cell_type": "code",
   "execution_count": null,
   "metadata": {},
   "outputs": [],
   "source": [
    "%matplotlib notebook\n",
    "import numpy as np\n",
    "import scipy.fftpack\n",
    "import matplotlib.pyplot as plt\n",
    "from matplotlib import animation, patches\n",
    "from IPython.display import display, Audio, HTML\n",
    "plt.rcParams['image.cmap'] = 'gray'\n",
    "from ipywidgets import interact, FloatSlider, IntSlider, SelectionSlider, Layout\n",
    "from functools import partial\n",
    "slider_layout = Layout(width='600px', height='20px')\n",
    "slider_style = {'description_width': 'initial'}\n",
    "FloatSlider_nice = partial(FloatSlider, style=slider_style, layout=slider_layout, continuous_update=False)\n",
    "IntSlider_nice = partial(IntSlider, style=slider_style, layout=slider_layout, continuous_update=False)\n",
    "SelectionSlider_nice = partial(SelectionSlider, style=slider_style, layout=slider_layout, continuous_update=False)\n",
    "\n",
    "def color2bw(img):\n",
    "    return np.dot(img, [0.299, 0.587, 0.114]) "
   ]
  },
  {
   "cell_type": "markdown",
   "metadata": {},
   "source": [
    "***\n",
    "### Universidad Austral de Chile\n",
    "## Computación de alto rendimiento\n",
    "# Fast Fourier Transform\n",
    "\n",
    "### Cristobal Navarro y Pablo Huijse\n",
    " \n",
    "***"
   ]
  },
  {
   "cell_type": "markdown",
   "metadata": {},
   "source": [
    "# Serie trigonométrica\n",
    "\n",
    "Podemos descomponer una señal periódica $P=1/f$ en una suma de sinusoides\n",
    "\n",
    "$$\n",
    "\\begin{align}\n",
    "s(t)\n",
    "&= \\sum_{k=0}^\\infty A_k \\cos(2\\pi k f t + \\phi_k) \\nonumber \\\\\n",
    "&= \\sum_{k=0}^\\infty a_k \\cos(2\\pi k f t) + b_k \\sin(2\\pi k f t), \\nonumber\n",
    "\\end{align}\n",
    "$$\n",
    "\n",
    "donde\n",
    "\n",
    "$$\n",
    "a_k =  f \\int_{-\\frac{1}{2f}}^{\\frac{1}{2f}} s(t) \\cos(2\\pi k f t) \\,dt \\quad b_k = f \\int_{-\\frac{1}{2f}}^{\\frac{1}{2f}} s(t) \\sin(2\\pi k f t) \\,dt \n",
    "$$"
   ]
  },
  {
   "cell_type": "code",
   "execution_count": null,
   "metadata": {},
   "outputs": [],
   "source": [
    "plt.close('all'); fig, ax = plt.subplots(figsize=(6, 4))\n",
    "f = 1.51518; t = np.linspace(-2/f, 2/f, num=5000); \n",
    "line = ax.plot(t, np.zeros_like(t))\n",
    "ax.set_xticks([-2/f, -1/f, 0, 1/f, 2/f]); \n",
    "ax.set_xticklabels([r\"$-2/f_0$\", r\"$-1/f_0$\", \"0\", r\"$1/f_0$\", r\"$2/f_0$\"]);\n",
    "a, b = np.random.randn(101), np.random.randn(101)\n",
    "def update(K):\n",
    "    y = np.zeros_like(t)\n",
    "    for k in range(1, K+1):\n",
    "        #y += (1/k)*np.sin(2.0*np.pi*k*f*t)\n",
    "        #y += (2*np.sin(np.pi*k/2)/(np.pi*k))*np.cos(2.0*np.pi*k*f*t)\n",
    "        y += a[k]*np.cos(2.0*np.pi*k*f*t)/k**2 + b[k]*np.sin(2.0*np.pi*k*f*t)/k**2\n",
    "    line[0].set_ydata(y); ax.set_ylim([np.amin(y)*1.1, np.amax(y)*1.1])\n",
    "interact(update, K=SelectionSlider_nice(options=[1, 2, 3, 4, 5, 10, 20, 30, 50, 100]));"
   ]
  },
  {
   "cell_type": "markdown",
   "metadata": {},
   "source": [
    "Visualización interactiva de la FS: https://bl.ocks.org/jinroh/7524988\n",
    "\n",
    "Serie de Fourier interesante: https://www.wolframalpha.com/input/?i=longcat+curve"
   ]
  },
  {
   "cell_type": "markdown",
   "metadata": {},
   "source": [
    "# Transformada de Fourier\n",
    "***\n",
    "- El concepto de frecuencia puede aplicarse también a señales no-periódicas\n",
    "- **Joseph Fourier:** Una señal no-periódica puede ser vista como una señal periódica **con un período infinito**\n",
    "- El único requisito es que ahora las frecuencias son un continuo, con un espaciado infinitesimal\n",
    "\n",
    "\n",
    "Directa:\n",
    "$$\n",
    "S(\\omega) = \\mathbb{FT}[s(t)] =  \\int_{-\\infty}^{\\infty} s(t) e^{-j\\omega t } dt,\n",
    "$$\n",
    "\n",
    "***\n",
    "\n",
    "Inversa:\n",
    "$$\n",
    "s(t) =  \\mathbb{FT}^{-1}[S(\\omega)] = \\frac{1}{2\\pi} \\int_{-\\infty}^{\\infty} S(\\omega) e^{j \\omega t } d\\omega,\n",
    "$$"
   ]
  },
  {
   "cell_type": "markdown",
   "metadata": {},
   "source": [
    "***\n",
    "\n",
    "# Discrete Fourier Transform (DFT)\n",
    "\n",
    "***\n",
    "\n",
    "- Nos interesa trabajar con señales digitales que están muestreadas en el tiempo\n",
    "- Asumimos que la señal fue observada en un ventana de tiempo de ancho $T$ [s]\n",
    "- Sea un sistema muestreador con frecuencia de muestreo $F_s$ [Hz] tal que\n",
    "$$\n",
    "s(t) = \\sum_{n=0}^{N-1} s[n] \\delta(t - n/F_s),\n",
    "$$\n",
    "del cual hemos tomado $N = T F_s$ muestras de $s(t)$\n",
    "\n",
    "<img src=\"https://upload.wikimedia.org/wikipedia/commons/8/88/Sampled.signal.svg\" width=\"600\">\n",
    "\n",
    "- Reemplazando en la transformada de Fourier\n",
    "$$\n",
    "\\begin{align}\n",
    "S(\\omega) &= \\int s(t) e^{-j\\omega t} dt \\nonumber \\\\\n",
    "&= \\int \\sum_{n=0}^{N-1} s[n] \\delta(t - n/F_s) e^{-j\\omega t} dt \\nonumber \\\\\n",
    "&=  \\sum_{n=0}^{N-1} s[n] \\int \\delta(t - n/F_s) e^{-j\\omega t} dt \\nonumber \\\\\n",
    "&=  \\sum_{n=0}^{N-1} s[n] e^{-j\\omega n/F_s} \\nonumber \n",
    "\\end{align}\n",
    "$$\n",
    "- Definiendo entonces $\\omega = 2 \\pi f = 2 \\pi k \\Delta f$ donde $\\Delta f = \\frac{1}{T} = \\frac{F_s}{N}$ y reemplazando \n",
    "$$\n",
    "S[k] =  \\sum_{n=0}^{N-1} s[n] e^{-j \\frac{2 \\pi}{N} k n},\n",
    "$$\n",
    "donde $k = [0, 1, \\ldots N-1]$, ¿A qué frecuencias corresponden estos índices?\n"
   ]
  },
  {
   "cell_type": "markdown",
   "metadata": {},
   "source": [
    "***\n",
    "\n",
    "## DFT como producto matricial\n",
    "\n",
    "Sea $\\{s_n\\}_{n=0,\\ldots,N-1}$ y definiendo \n",
    "\n",
    "$$\n",
    "W_N = e^{-j \\frac{2\\pi}{N}} = \\cos \\left(\\frac{2\\pi}{N}\\right) - j \\sin \\left(\\frac{2\\pi}{N}\\right)\n",
    "$$\n",
    "\n",
    "podemos expresar la transformada de Fourier discreta como\n",
    "\n",
    "$$\n",
    "S[k] =  \\sum_{n=0}^{N-1} s[n] W_N^{kn}, \\quad k = [0, 1, \\ldots N-1],\n",
    "$$\n",
    "\n",
    "que también puede ser expresado matricialmente como\n",
    "\n",
    "$$\n",
    "\\begin{align}\n",
    "\\begin{pmatrix} \n",
    "S[0] \\\\\n",
    "S[1] \\\\\n",
    "S[2] \\\\\n",
    "\\vdots \\\\\n",
    "S[N-1] \\\\\n",
    "\\end{pmatrix} &=\n",
    "\\begin{pmatrix}\n",
    "1 & 1 & 1 & \\cdots & 1 \\\\\n",
    "1 & W_N & W_N^2 & \\cdots & W_N^{N-1} \\\\\n",
    "1 & W_N^2 & W_N^4 & \\cdots & W_N^{N-2} \\\\\n",
    "\\vdots & \\dots & \\dots & \\ddots &  \\vdots \\\\\n",
    "1 & W_N^{N-1} & W_N^{N-2} & \\cdots & W_N \\\\\n",
    "\\end{pmatrix} \n",
    "\\begin{pmatrix} \n",
    "s[0] \\\\\n",
    "s[1] \\\\\n",
    "s[2] \\\\\n",
    "\\vdots \\\\\n",
    "s[N-1] \\\\\n",
    "\\end{pmatrix} \\nonumber  \\\\\n",
    "S &= \\Omega s,\n",
    "\\end{align}\n",
    "$$\n",
    "\n",
    "\n",
    "Notemos que:\n",
    "- Por definición $W_N^{kn} = \\left(e^{-j \\frac{2\\pi}{N}}\\right)^{kn} = e^{-j \\frac{2\\pi}{N}kn}$\n",
    "- Por periodicidad $W_N^{2(N-1)} = W_N^{2(N-1) - N}  = W_N^{N-2}$\n",
    "- También se tiene simetría hermítica: $W_N^{k(-n)} = W_N^{-kn} = (W_N^{kn})^*$\n",
    "- $\\Omega$ es una matriz cuadrada y simétrica \n",
    "\n",
    "***\n",
    "La DFT tiene complejidad cuadrática: $N^2$ multiplicaciones y $N$ sumas\n",
    "***"
   ]
  },
  {
   "cell_type": "code",
   "execution_count": null,
   "metadata": {},
   "outputs": [],
   "source": [
    "F_s = 100\n",
    "t = np.linspace(0, 2, 2*F_s, endpoint=False)\n",
    "x = np.sin(2*np.pi*t*5) + 0.5*np.cos(2*np.pi*t*12 + np.pi/4)\n",
    "\n",
    "fig, ax = plt.subplots(figsize=(7, 3), tight_layout=True)\n",
    "ax.plot(t, x)\n",
    "ax.set_xlabel('Tiempo [s]'); ax.set_ylabel('Amplitud');\n",
    "\n",
    "\n",
    "def DFT(x):\n",
    "    N = len(x)\n",
    "    W_N = np.exp(-1j*2*np.pi/N)\n",
    "    n = np.arange(N)\n",
    "    Omega = W_N**(n*n.reshape(1,-1).T)\n",
    "    return np.dot(Omega, x)\n",
    "\n",
    "fig, ax = plt.subplots(figsize=(7, 3), tight_layout=True)\n",
    "ax.plot(np.linspace(0, F_s, num=len(t)), np.abs(DFT(x)))\n",
    "ax.set_xlabel('Frecuencia [Hz]'); \n",
    "display(np.angle(DFT(x))[np.abs(DFT(x)) > 10]*180/np.pi);"
   ]
  },
  {
   "cell_type": "markdown",
   "metadata": {},
   "source": [
    "***\n",
    "\n",
    "# Transformada Rápida de Fourier (FFT)\n",
    "\n",
    "***\n",
    "\n",
    "- La computación de la DFT tiene complejidad $\\mathcal{O}(N^2)$\n",
    "- Existe una aproximación numérica con complejidad $\\mathcal{O}(N\\log N)$: la Fast Fourier Transform (FFT). \n",
    "\n",
    "El algoritmo *radix-2* obtiene una FFT recursiva que explota las simetrías en la DFT\n",
    "\n",
    "$$\n",
    "\\begin{align}\n",
    "S[k] &=  \\sum_{n=0}^{N-1} s[n] W_N^{kn} \\nonumber \\\\\n",
    "&= \\sum_{n=0}^{N/2-1} s[2n] W_N^{k 2n} + \\sum_{n=0}^{N/2-1} s[2n+1] W_N^{k(2n+1)} \\nonumber \\\\\n",
    "&= \\sum_{n=0}^{N/2-1} s[2n] W_{N/2}^{kn} + W_N^{k} \\sum_{n=0}^{N/2-1} s[2n+1] W_{N/2}^{kn} \\nonumber \\\\\n",
    "&= S_E[k] + W_N^{k} S_O[k] ~~ \\forall k \\in [0,N/2]  \\nonumber \n",
    "\\end{align} \n",
    "$$\n",
    "\n",
    "Notar que se calculan dos \"medias\" DFT"
   ]
  },
  {
   "cell_type": "markdown",
   "metadata": {},
   "source": [
    "Por periodicidad de la DFT tenemos que\n",
    "$$\n",
    "\\begin{align}\n",
    "S_E[k + N/2] &=  \\sum_{n=0}^{N/2-1} s[2n] W_{N/2}^{(k+N/2)n} \\nonumber \\\\\n",
    "&=  \\sum_{n=0}^{N/2-1} s[2n] W_{N/2}^{kn} \\exp \\left(-j2\\pi n \\right) = S_E[k], \\nonumber\n",
    "\\end{align}\n",
    "$$\n",
    "\n",
    "e igualmente\n",
    "\n",
    "$$\n",
    "S_O[k + N/2] = S_O[k],\n",
    "$$\n",
    "\n",
    "juntando ambos tenemos que\n",
    "$$\n",
    "\\begin{align}\n",
    "S[k + N/2] &=  S_E[k + N/2] + W_{N}^{(k+N/2)} S_O[k + N/2] \\nonumber  \\\\\n",
    "&=  S_E[k] + W_{N}^{k} \\exp \\left(-j\\pi\\right) S_O[k] \\nonumber \\\\\n",
    "&=  S_E[k] - W_{N}^{k} S_O[k] \\nonumber \n",
    "\\end{align}\n",
    "$$\n",
    "\n",
    "es decir\n",
    "\n",
    "$$\n",
    "\\begin{align}\n",
    "S[k] &=  S_E[k] + W_{N}^{k} S_O[k] \\nonumber \\\\\n",
    "S[k + N/2] &=  S_E[k] - W_{N}^{k} S_O[k] \\quad \\forall k \\in [0,N/2]  \\nonumber \n",
    "\\end{align}\n",
    "$$\n",
    "\n",
    "- La DFT de $k$ y $k+N/2$ difieren en un signo\n",
    "- Se han explotado las simetrías de la DFT para reducir el costo computacional"
   ]
  },
  {
   "cell_type": "markdown",
   "metadata": {},
   "source": [
    "Diagramas de mariposa: http://www.themobilestudio.net/the-fourier-transform-part-14"
   ]
  },
  {
   "cell_type": "code",
   "execution_count": null,
   "metadata": {},
   "outputs": [],
   "source": [
    "t = np.linspace(0, 10, num=20)\n",
    "x = np.random.randn(20)\n",
    "plt.figure(figsize=(7, 4))\n",
    "plt.plot(t, x, c='k', alpha=0.5)\n",
    "plt.scatter(t[::2], x[::2], marker='x', zorder=100)\n",
    "plt.scatter(t[1::2], x[1::2], marker='o', zorder=100);"
   ]
  },
  {
   "cell_type": "code",
   "execution_count": null,
   "metadata": {},
   "outputs": [],
   "source": [
    "np.set_printoptions(precision=3)\n",
    "display(scipy.fftpack.fft(x),\n",
    "        DFT(x))"
   ]
  },
  {
   "cell_type": "code",
   "execution_count": null,
   "metadata": {},
   "outputs": [],
   "source": [
    "S = DFT(x) # N*N multiplicaciones\n",
    "Se = DFT(x[0::2]) # N/2*N/2 \n",
    "So = DFT(x[1::2]) # N/2*N/2 \n",
    "# Se y So = N*N/2 multiplicaciones\n",
    "display(S[:10],\n",
    "        Se + np.exp(-1j*2*np.pi*np.arange(10)/len(x))*So,\n",
    "        S[10:],\n",
    "        Se - np.exp(-1j*2*np.pi*np.arange(10)/len(x))*So)"
   ]
  },
  {
   "cell_type": "markdown",
   "metadata": {},
   "source": [
    "# Trabajo práctico\n",
    "\n",
    "Genere una señal y calcule su transformada de Fourier escribiendo una rutina en C++\n",
    "\n",
    "Optimize su rutina usando el algoritmo FFT\n",
    "\n",
    "Paralelice el algoritmo FFT usando OpenMP y CUDA"
   ]
  },
  {
   "cell_type": "code",
   "execution_count": null,
   "metadata": {},
   "outputs": [],
   "source": [
    "times, dt = np.linspace(0, 10, num=2048, retstep=True)\n",
    "freqs = 0.01 + 20*np.random.rand(5)\n",
    "phases = np.pi*np.random.randn(5)\n",
    "signal = np.zeros(shape=(len(times),))\n",
    "for freq, phase in zip(freqs, phases):\n",
    "    signal += np.cos(2.0*np.pi*times*freq + phase)\n",
    "    \n",
    "fig, ax = plt.subplots()\n",
    "ax.plot(times, signal)\n",
    "np.savetxt('signal.dat', signal)"
   ]
  },
  {
   "cell_type": "code",
   "execution_count": null,
   "metadata": {},
   "outputs": [],
   "source": [
    "fig, ax = plt.subplots(2, figsize=(7, 4))\n",
    "SIGNAL = scipy.fftpack.fft(signal, n=len(times))\n",
    "SIGNAL_plot = scipy.fftpack.fftshift(SIGNAL)\n",
    "freqs_plot = scipy.fftpack.fftshift(scipy.fftpack.fftfreq(n=len(times), d=dt))\n",
    "ax[0].plot(freqs_plot, np.abs(SIGNAL_plot))\n",
    "ax[1].plot(freqs_plot, np.angle(SIGNAL_plot));"
   ]
  },
  {
   "cell_type": "code",
   "execution_count": null,
   "metadata": {},
   "outputs": [],
   "source": [
    "#%%bash\n",
    "!make\n",
    "%timeit -n1 !./prog 0\n",
    "%timeit -n1 !./prog 1\n",
    "#!./prog 1\n",
    "!head spectrum.dat\n",
    "!make clean"
   ]
  },
  {
   "cell_type": "code",
   "execution_count": null,
   "metadata": {},
   "outputs": [],
   "source": [
    "SIGNAL_c = np.loadtxt(\"spectrum.dat\")\n",
    "SIGNAL_c_complex = SIGNAL_c[:, 0] + 1j*SIGNAL_c[:, 1]\n",
    "np.allclose(SIGNAL, SIGNAL_c_complex, rtol=1e-9)"
   ]
  },
  {
   "cell_type": "code",
   "execution_count": null,
   "metadata": {},
   "outputs": [],
   "source": [
    "fig, ax = plt.subplots(2, figsize=(7, 4), tight_layout=True)\n",
    "ax[0].plot(freqs_plot, np.abs(SIGNAL_plot), alpha=0.5)\n",
    "SIGNAL_c_plot = scipy.fftpack.fftshift(SIGNAL_c_complex)\n",
    "ax[0].plot(freqs_plot, np.abs(SIGNAL_c_plot), alpha=0.5)\n",
    "ax[1].plot(freqs_plot, np.abs(SIGNAL_plot) - np.abs(SIGNAL_c_plot));"
   ]
  },
  {
   "cell_type": "markdown",
   "metadata": {},
   "source": [
    "# Apéndices"
   ]
  },
  {
   "cell_type": "markdown",
   "metadata": {},
   "source": [
    "## Transformada de Fourier bidimensional\n",
    "\n",
    "La DFT se puede aplicar a funciones multi-dimensionales. En el caso discreto de una señal bidimensional $g[n_1, n_2]$ con índices $n_1 \\in [0, N_1-1]$ y $n_2 \\in [0, N_2-1]$ tenemos\n",
    "\n",
    "$$\n",
    "G[k_1, k_2] = \\sum_{n_1=0}^{N_1-1} \\sum_{n_2=0}^{N_2-1} g[n_1, n_2] \\exp \\left ( -j2\\pi  \\left[\\frac{n_1 k_1}{N_1} + \\frac{n_2 k_2}{N_2} \\right] \\right)\n",
    "$$\n",
    "y su inversa\n",
    "\n",
    "$$\n",
    "g[n_1, n_2] = \\frac{1}{N_1 N_2}\\sum_{k_1=0}^{N_1-1} \\sum_{k_2=0}^{N_2-1} G[k_1, k_2] \\exp \\left ( j2\\pi  \\left[\\frac{n_1 k_1}{N_1} + \\frac{n_2 k_2}{N_2} \\right] \\right)\n",
    "$$\n",
    "\n",
    "Notemos que\n",
    "\n",
    "\\begin{align}\n",
    "G[k_1, k_2] &= \\sum_{n_1=0}^{N_1-1} \\left(\\sum_{n_2=0}^{N_2-1} g[n_1, n_2] \\exp \\left (-j2\\pi \\frac{n_2 k_2}{N_2}\\right) \\right) \\exp \\left (-j2\\pi \\frac{n_1 k_1}{N_1}\\right) \\\\\n",
    "&= \\sum_{n_1=0}^{N_1-1} \\gamma_{n_1}[n_2] \\exp \\left (-j2\\pi \\frac{n_1 k_1}{N_1}\\right),\n",
    "\\end{align}\n",
    "\n",
    "*i.e.* se descompone como dos DFT de una dimensión. En cada paso podemos usar la FFT"
   ]
  },
  {
   "cell_type": "code",
   "execution_count": null,
   "metadata": {},
   "outputs": [],
   "source": [
    "x = np.arange(0, 32, step=1)\n",
    "X, Y = np.meshgrid(x, x)\n",
    "fig, ax = plt.subplots(9, 9, figsize=(11, 11), tight_layout=False)\n",
    "for n in range(9):\n",
    "    for m in range(9):\n",
    "        ax[n, m].matshow(np.cos(2.0*np.pi*X*m/len(x) + 2.0*np.pi*Y*n/len(x)), \n",
    "                         cmap=plt.cm.RdBu_r, vmin=-1, vmax=1)\n",
    "        ax[n, m].axis('off')"
   ]
  },
  {
   "cell_type": "code",
   "execution_count": null,
   "metadata": {},
   "outputs": [],
   "source": [
    "img_doge = color2bw(plt.imread('doge.jpg')) \n",
    "\n",
    "plt.figure(figsize=(8, 5))\n",
    "plt.imshow(img_doge)\n",
    "plt.colorbar(orientation='horizontal');"
   ]
  },
  {
   "cell_type": "code",
   "execution_count": null,
   "metadata": {},
   "outputs": [],
   "source": [
    "from scipy import fftpack\n",
    "fig, ax = plt.subplots(1, 2, figsize=(10, 5), tight_layout=True)\n",
    "S_img = fftpack.fft2(img_doge)\n",
    "im = ax[0].imshow(fftpack.fftshift(np.log(1.+np.abs(S_img))))\n",
    "fig.colorbar(im, ax=ax[0], orientation='horizontal')\n",
    "im = ax[1].imshow(fftpack.fftshift(np.angle(S_img)))  # arctan(imag/real)\n",
    "fig.colorbar(im, ax=ax[1], orientation='horizontal');"
   ]
  },
  {
   "cell_type": "code",
   "execution_count": null,
   "metadata": {},
   "outputs": [],
   "source": [
    "plt.close('all'); fig, ax = plt.subplots(1, 2, figsize=(6, 3), tight_layout=True);\n",
    "cy, cx = img_doge.shape[0]/2, img_doge.shape[1]/2\n",
    "x = np.arange(0, img_doge.shape[1]); y = np.arange(0, img_doge.shape[0]);\n",
    "X, Y = np.meshgrid(x, y)\n",
    "\n",
    "def update(sigma1=1, sigma2=1):\n",
    "    for ax_ in ax:\n",
    "        ax_.cla()\n",
    "        ax_.axis('off')\n",
    "    mask1 = np.exp(-(((X-cx)/sigma1)**2 + ((Y-cy)/sigma1)**2)) \n",
    "    mask2 = np.exp(-(((X-cx)/sigma2)**2 + ((Y-cy)/sigma2)**2)) \n",
    "    im = ax[0].imshow(fftpack.fftshift(np.log(1.0+np.abs(S_img)))*(mask1-mask2))\n",
    "    im = ax[1].imshow(np.real(fftpack.ifft2(fftpack.ifftshift(fftpack.fftshift(S_img)*(mask1-mask2)))))\n",
    "interact(update, sigma1=FloatSlider_nice(min=1, max=200.0, value=200, description=\"$\\sigma_1$\"),\n",
    "        sigma2=FloatSlider_nice(min=1, max=200.0, value=1, description=\"$\\sigma_2$\"));"
   ]
  },
  {
   "cell_type": "code",
   "execution_count": null,
   "metadata": {},
   "outputs": [],
   "source": []
  }
 ],
 "metadata": {
  "kernelspec": {
   "display_name": "Python 3",
   "language": "python",
   "name": "python3"
  },
  "language_info": {
   "codemirror_mode": {
    "name": "ipython",
    "version": 3
   },
   "file_extension": ".py",
   "mimetype": "text/x-python",
   "name": "python",
   "nbconvert_exporter": "python",
   "pygments_lexer": "ipython3",
   "version": "3.7.3"
  }
 },
 "nbformat": 4,
 "nbformat_minor": 2
}
